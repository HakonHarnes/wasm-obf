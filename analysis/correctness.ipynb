{
 "cells": [
  {
   "attachments": {},
   "cell_type": "markdown",
   "metadata": {},
   "source": [
    "## Correctness"
   ]
  },
  {
   "cell_type": "code",
   "execution_count": 1,
   "metadata": {},
   "outputs": [],
   "source": [
    "import json\n",
    "import pandas as pd"
   ]
  },
  {
   "attachments": {},
   "cell_type": "markdown",
   "metadata": {},
   "source": [
    "### Load data"
   ]
  },
  {
   "cell_type": "code",
   "execution_count": 2,
   "metadata": {},
   "outputs": [],
   "source": [
    "def load_data(path: str):\n",
    "    with open(path) as file:\n",
    "        json_data = json.load(file)\n",
    "    df = pd.DataFrame(json_data)\n",
    "\n",
    "    if \"_id\" in df.columns:\n",
    "        df = df.drop(columns=\"_id\")\n",
    "\n",
    "    return df\n",
    "\n",
    "unobfuscated_unoptimized = load_data(\"./data/unoptimized/unobfuscated.json\")\n",
    "unobfuscated_optimized = load_data(\"./data/optimized/unobfuscated.json\")\n",
    "\n",
    "tigress_unoptimized = load_data(\"./data/unoptimized/tigress.json\")\n",
    "tigress_optimized = load_data(\"./data/optimized/tigress.json\")\n",
    "\n",
    "llvm_unoptimized = load_data(\"./data/unoptimized/llvm.json\")\n",
    "llvm_optimized = load_data(\"./data/optimized/llvm.json\")\n",
    "\n",
    "wasm_mutate_unoptimized = load_data(\"./data/unoptimized/wasm-mutate.json\")\n",
    "wasm_mutate_optimized = load_data(\"./data/optimized/wasm-mutate.json\")"
   ]
  },
  {
   "attachments": {},
   "cell_type": "markdown",
   "metadata": {},
   "source": [
    "### Verify hashes"
   ]
  },
  {
   "cell_type": "code",
   "execution_count": 3,
   "metadata": {},
   "outputs": [],
   "source": [
    "def verify_hashes(df):\n",
    "  # Filter the DataFrame for miners\n",
    "    miners = df[df[\"category\"] == \"miners\"]\n",
    "\n",
    "    # If the DataFrame has an 'iteration' field, filter the miners accordingly\n",
    "    if \"iteration\" in df.columns:\n",
    "        miners = miners[(miners[\"iteration\"] == -1) | (miners[\"iteration\"] % 100 == 0)]\n",
    "\n",
    "    # Count the number of miners\n",
    "    total_miners = len(miners)\n",
    "\n",
    "    # Check if the verified_hashes field is 100 for each miner\n",
    "    verified_miners = miners[miners[\"verified_hashes\"] == 100]\n",
    "\n",
    "    # Count the number of verified miners\n",
    "    total_verified_miners = len(verified_miners)\n",
    "\n",
    "    # Print an error message for miners with verified_hashes not equal to 100\n",
    "    unverified_miners = miners[miners[\"verified_hashes\"] != 100]\n",
    "    for index, row in unverified_miners.iterrows():\n",
    "        print(f\"Error: Miner {row['name']} has {row['verified_hashes']} verified hashes instead of 100.\")\n",
    "\n",
    "    return total_miners, total_verified_miners"
   ]
  },
  {
   "attachments": {},
   "cell_type": "markdown",
   "metadata": {},
   "source": [
    "#### Tigress"
   ]
  },
  {
   "cell_type": "code",
   "execution_count": 4,
   "metadata": {},
   "outputs": [
    {
     "name": "stdout",
     "output_type": "stream",
     "text": [
      "Verifying Tigress\n",
      "\n",
      "Unoptimized\n",
      "Total: 80 \t Verified: 80\n",
      "\n",
      "Optimized\n",
      "Total: 80 \t Verified: 80\n"
     ]
    }
   ],
   "source": [
    "print(\"Verifying Tigress\\n\")\n",
    "\n",
    "print('Unoptimized')\n",
    "total_miners, total_verified_miners = verify_hashes(tigress_unoptimized)\n",
    "print(f\"Total: {total_miners} \\t Verified: {total_verified_miners}\")\n",
    "\n",
    "print(\"\\nOptimized\")\n",
    "total_miners, total_verified_miners = verify_hashes(tigress_optimized)\n",
    "print(f\"Total: {total_miners} \\t Verified: {total_verified_miners}\")"
   ]
  },
  {
   "attachments": {},
   "cell_type": "markdown",
   "metadata": {},
   "source": [
    "#### emcc-obf"
   ]
  },
  {
   "cell_type": "code",
   "execution_count": 5,
   "metadata": {},
   "outputs": [
    {
     "name": "stdout",
     "output_type": "stream",
     "text": [
      "Verifying emcc-obf\n",
      "\n",
      "Unoptimized\n",
      "Total: 80 \t Verified: 80\n",
      "\n",
      "Optimized\n",
      "Total: 80 \t Verified: 80\n"
     ]
    }
   ],
   "source": [
    "print(\"Verifying emcc-obf\\n\")\n",
    "\n",
    "print('Unoptimized')\n",
    "total_miners, total_verified_miners = verify_hashes(llvm_unoptimized)\n",
    "print(f\"Total: {total_miners} \\t Verified: {total_verified_miners}\")\n",
    "\n",
    "print(\"\\nOptimized\")\n",
    "total_miners, total_verified_miners = verify_hashes(llvm_optimized)\n",
    "print(f\"Total: {total_miners} \\t Verified: {total_verified_miners}\")"
   ]
  },
  {
   "attachments": {},
   "cell_type": "markdown",
   "metadata": {},
   "source": [
    "#### wasm-mutate"
   ]
  },
  {
   "cell_type": "code",
   "execution_count": 6,
   "metadata": {},
   "outputs": [
    {
     "name": "stdout",
     "output_type": "stream",
     "text": [
      "Verifying wasm-mutate\n",
      "\n",
      "Unoptimized\n",
      "Total: 150 \t Verified: 150\n",
      "\n",
      "Optimized\n",
      "Total: 150 \t Verified: 150\n"
     ]
    }
   ],
   "source": [
    "print(\"Verifying wasm-mutate\\n\")\n",
    "\n",
    "print('Unoptimized')\n",
    "total_miners, total_verified_miners = verify_hashes(wasm_mutate_unoptimized)\n",
    "print(f\"Total: {total_miners} \\t Verified: {total_verified_miners}\")\n",
    "\n",
    "print(\"\\nOptimized\")\n",
    "total_miners, total_verified_miners = verify_hashes(wasm_mutate_optimized)\n",
    "print(f\"Total: {total_miners} \\t Verified: {total_verified_miners}\")"
   ]
  },
  {
   "attachments": {},
   "cell_type": "markdown",
   "metadata": {},
   "source": [
    "#### Summary"
   ]
  },
  {
   "attachments": {},
   "cell_type": "markdown",
   "metadata": {},
   "source": [
    "All miners verified!"
   ]
  }
 ],
 "metadata": {
  "kernelspec": {
   "display_name": "Python 3",
   "language": "python",
   "name": "python3"
  },
  "language_info": {
   "codemirror_mode": {
    "name": "ipython",
    "version": 3
   },
   "file_extension": ".py",
   "mimetype": "text/x-python",
   "name": "python",
   "nbconvert_exporter": "python",
   "pygments_lexer": "ipython3",
   "version": "3.11.3"
  },
  "orig_nbformat": 4
 },
 "nbformat": 4,
 "nbformat_minor": 2
}
